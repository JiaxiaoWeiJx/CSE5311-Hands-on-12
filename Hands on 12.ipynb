{
  "nbformat": 4,
  "nbformat_minor": 0,
  "metadata": {
    "colab": {
      "provenance": []
    },
    "kernelspec": {
      "name": "python3",
      "display_name": "Python 3"
    },
    "language_info": {
      "name": "python"
    }
  },
  "cells": [
    {
      "cell_type": "markdown",
      "source": [
        "Implement a dynamic array (that is a C++ vector). You are only allowed to use C style arrays. Assume the datatype is an int."
      ],
      "metadata": {
        "id": "QejOczCdOoLT"
      }
    },
    {
      "cell_type": "code",
      "source": [
        "import ctypes\n",
        "\n",
        "class DynamicArray:\n",
        "    def __init__(self):\n",
        "        self._capacity = 1\n",
        "        self._size = 0\n",
        "        self._array = self._make_array(self._capacity)\n",
        "\n",
        "    def __len__(self):\n",
        "        return self._size\n",
        "\n",
        "    def __getitem__(self, index):\n",
        "        if not 0 <= index < self._size:\n",
        "            raise IndexError('Index out of range')\n",
        "        return self._array[index]\n",
        "\n",
        "    def append(self, element):\n",
        "        if self._size == self._capacity:\n",
        "            self._resize(2 * self._capacity)\n",
        "        self._array[self._size] = element\n",
        "        self._size += 1\n",
        "\n",
        "    def _resize(self, new_capacity):\n",
        "        new_array = self._make_array(new_capacity)\n",
        "        for i in range(self._size):\n",
        "            new_array[i] = self._array[i]\n",
        "        self._array = new_array\n",
        "        self._capacity = new_capacity\n",
        "\n",
        "    def _make_array(self, capacity):\n",
        "        return (capacity * ctypes.py_object)()\n",
        "\n",
        "# Example usage:\n",
        "if __name__ == \"__main__\":\n",
        "    dyn_array = DynamicArray()\n",
        "    print(\"Array length:\", len(dyn_array))\n",
        "    dyn_array.append(1)\n",
        "    dyn_array.append(2)\n",
        "    dyn_array.append(3)\n",
        "    print(\"Array length after appending 3 elements:\", len(dyn_array))\n",
        "    print(\"First element:\", dyn_array[0])\n",
        "    print(\"Second element:\", dyn_array[1])\n",
        "    print(\"Third element:\", dyn_array[2])\n"
      ],
      "metadata": {
        "colab": {
          "base_uri": "https://localhost:8080/"
        },
        "id": "Nmf_dePUOnat",
        "outputId": "80a4e22d-0e37-4128-fb1a-d2e50cd10cb8"
      },
      "execution_count": 1,
      "outputs": [
        {
          "output_type": "stream",
          "name": "stdout",
          "text": [
            "Array length: 0\n",
            "Array length after appending 3 elements: 3\n",
            "First element: 1\n",
            "Second element: 2\n",
            "Third element: 3\n"
          ]
        }
      ]
    },
    {
      "cell_type": "markdown",
      "source": [
        "**2. Give a dynamic table (see Section 17.4) that doubles in size when it needs more space. Find the amoritized runtime for inserting n elements.**\n",
        "\n",
        "\n",
        "---\n",
        "\n",
        "\\\n",
        "\n",
        "* (a) use the aggregate method\n",
        "\n",
        "    The runtime = 𝒪(1).Because the cost of resizing the table occurs infrequetly, and the total cost of resizing can be spread over all n insertions. Thus, the amortized cost per insertion is constant.\n",
        "\n",
        "\n",
        "* (b) use the accounting method\n",
        "\n",
        "    The runtime = 𝒪(1), with slightly higher cost for each insertion. The surplus is used to cover the cost of resizing the table when it's doubled. Therefore, the total cost of n insertion is proportional to  𝒪(n), making the amortized runtime 𝒪(1) per insertion on average.\n",
        "\n"
      ],
      "metadata": {
        "id": "T5ehxfoiOu95"
      }
    }
  ]
}